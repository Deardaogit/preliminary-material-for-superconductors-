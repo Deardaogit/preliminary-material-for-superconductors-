{
 "cells": [
  {
   "cell_type": "markdown",
   "metadata": {},
   "source": [
    "# MVP Analysis Notebook\n",
    "\n",
    "Run DFT and AI here.\n",
    "\n",
    "```python\n",
    "import sys\n",
    "sys.path.append('../src')\n",
    "from dft_simulations import simulate_dft\n",
    "from ai_predictor import TcPredictor\n",
    "# ... (full code from src)\n",
    "```"
   ]
  }
 ],
 "metadata": {
  "kernelspec": {
   "display_name": "Python 3",
   "language": "python",
   "name": "python3"
  },
  "language_info": {
   "name": "python"
  }
 },
 "nbformat": 4,
 "nbformat_minor": 5
}
